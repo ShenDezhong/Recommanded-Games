{
 "cells": [
  {
   "cell_type": "code",
   "execution_count": 2,
   "metadata": {},
   "outputs": [],
   "source": [
    "import matplotlib.pyplot as plt\n",
    "import io\n",
    "import numpy as np\n",
    "import pandas as pd\n",
    "import nltk\n",
    "from nltk import FreqDist\n",
    "from nltk import classify\n",
    "\n",
    "from keras.preprocessing.text import Tokenizer\n",
    "\n",
    "from sklearn.model_selection import train_test_split \n",
    "%matplotlib inline"
   ]
  },
  {
   "cell_type": "code",
   "execution_count": 3,
   "metadata": {},
   "outputs": [
    {
     "data": {
      "text/html": [
       "<div>\n",
       "<style scoped>\n",
       "    .dataframe tbody tr th:only-of-type {\n",
       "        vertical-align: middle;\n",
       "    }\n",
       "\n",
       "    .dataframe tbody tr th {\n",
       "        vertical-align: top;\n",
       "    }\n",
       "\n",
       "    .dataframe thead th {\n",
       "        text-align: right;\n",
       "    }\n",
       "</style>\n",
       "<table border=\"1\" class=\"dataframe\">\n",
       "  <thead>\n",
       "    <tr style=\"text-align: right;\">\n",
       "      <th></th>\n",
       "      <th>Game name</th>\n",
       "      <th>Category</th>\n",
       "    </tr>\n",
       "  </thead>\n",
       "  <tbody>\n",
       "    <tr>\n",
       "      <th>0</th>\n",
       "      <td>Stardew Valley</td>\n",
       "      <td>Casual</td>\n",
       "    </tr>\n",
       "    <tr>\n",
       "      <th>1</th>\n",
       "      <td>Cities Skylines</td>\n",
       "      <td>Casual</td>\n",
       "    </tr>\n",
       "    <tr>\n",
       "      <th>2</th>\n",
       "      <td>Human Fall Flat</td>\n",
       "      <td>Casual</td>\n",
       "    </tr>\n",
       "    <tr>\n",
       "      <th>3</th>\n",
       "      <td>UNO</td>\n",
       "      <td>Casual</td>\n",
       "    </tr>\n",
       "    <tr>\n",
       "      <th>4</th>\n",
       "      <td>Deiland</td>\n",
       "      <td>Casual</td>\n",
       "    </tr>\n",
       "    <tr>\n",
       "      <th>5</th>\n",
       "      <td>Bloons TD 6</td>\n",
       "      <td>Casual</td>\n",
       "    </tr>\n",
       "    <tr>\n",
       "      <th>6</th>\n",
       "      <td>Plants vs. Zombies GOTY Edition</td>\n",
       "      <td>Casual</td>\n",
       "    </tr>\n",
       "    <tr>\n",
       "      <th>7</th>\n",
       "      <td>The Sims 3</td>\n",
       "      <td>Casual</td>\n",
       "    </tr>\n",
       "    <tr>\n",
       "      <th>8</th>\n",
       "      <td>Planet Zoo</td>\n",
       "      <td>Casual</td>\n",
       "    </tr>\n",
       "    <tr>\n",
       "      <th>9</th>\n",
       "      <td>Planet Coaster</td>\n",
       "      <td>Casual</td>\n",
       "    </tr>\n",
       "    <tr>\n",
       "      <th>10</th>\n",
       "      <td>Assassin's Creed</td>\n",
       "      <td>RPG</td>\n",
       "    </tr>\n",
       "    <tr>\n",
       "      <th>11</th>\n",
       "      <td>DARK SOULS3</td>\n",
       "      <td>RPG</td>\n",
       "    </tr>\n",
       "    <tr>\n",
       "      <th>12</th>\n",
       "      <td>Grim Dawn</td>\n",
       "      <td>RPG</td>\n",
       "    </tr>\n",
       "    <tr>\n",
       "      <th>13</th>\n",
       "      <td>MonsterHunter</td>\n",
       "      <td>RPG</td>\n",
       "    </tr>\n",
       "    <tr>\n",
       "      <th>14</th>\n",
       "      <td>MountBlade</td>\n",
       "      <td>RPG</td>\n",
       "    </tr>\n",
       "    <tr>\n",
       "      <th>15</th>\n",
       "      <td>My Time At Portia</td>\n",
       "      <td>RPG</td>\n",
       "    </tr>\n",
       "    <tr>\n",
       "      <th>16</th>\n",
       "      <td>NieR Automata</td>\n",
       "      <td>RPG</td>\n",
       "    </tr>\n",
       "    <tr>\n",
       "      <th>17</th>\n",
       "      <td>OCTOPATH TRAVELER</td>\n",
       "      <td>RPG</td>\n",
       "    </tr>\n",
       "    <tr>\n",
       "      <th>18</th>\n",
       "      <td>Slay the Spire</td>\n",
       "      <td>RPG</td>\n",
       "    </tr>\n",
       "    <tr>\n",
       "      <th>19</th>\n",
       "      <td>WITCHER3</td>\n",
       "      <td>RPG</td>\n",
       "    </tr>\n",
       "    <tr>\n",
       "      <th>20</th>\n",
       "      <td>Albion Online</td>\n",
       "      <td>Multi</td>\n",
       "    </tr>\n",
       "    <tr>\n",
       "      <th>21</th>\n",
       "      <td>Bloons TD Battles</td>\n",
       "      <td>Multi</td>\n",
       "    </tr>\n",
       "    <tr>\n",
       "      <th>22</th>\n",
       "      <td>Realm of the Mad God</td>\n",
       "      <td>Multi</td>\n",
       "    </tr>\n",
       "    <tr>\n",
       "      <th>23</th>\n",
       "      <td>Shakes and Fidget</td>\n",
       "      <td>Multi</td>\n",
       "    </tr>\n",
       "    <tr>\n",
       "      <th>24</th>\n",
       "      <td>The Elder Scrolls Online</td>\n",
       "      <td>Multi</td>\n",
       "    </tr>\n",
       "    <tr>\n",
       "      <th>25</th>\n",
       "      <td>The Lord of the Rings Online</td>\n",
       "      <td>Multi</td>\n",
       "    </tr>\n",
       "    <tr>\n",
       "      <th>26</th>\n",
       "      <td>Transformice</td>\n",
       "      <td>Multi</td>\n",
       "    </tr>\n",
       "    <tr>\n",
       "      <th>27</th>\n",
       "      <td>War Thunder</td>\n",
       "      <td>Multi</td>\n",
       "    </tr>\n",
       "    <tr>\n",
       "      <th>28</th>\n",
       "      <td>World of Tanks Blitz</td>\n",
       "      <td>Multi</td>\n",
       "    </tr>\n",
       "    <tr>\n",
       "      <th>29</th>\n",
       "      <td>World of Warships</td>\n",
       "      <td>Multi</td>\n",
       "    </tr>\n",
       "    <tr>\n",
       "      <th>...</th>\n",
       "      <td>...</td>\n",
       "      <td>...</td>\n",
       "    </tr>\n",
       "    <tr>\n",
       "      <th>33</th>\n",
       "      <td>Counter-Strike Global Offensive</td>\n",
       "      <td>FPS</td>\n",
       "    </tr>\n",
       "    <tr>\n",
       "      <th>34</th>\n",
       "      <td>Deep Rock Galactic</td>\n",
       "      <td>FPS</td>\n",
       "    </tr>\n",
       "    <tr>\n",
       "      <th>35</th>\n",
       "      <td>Deus Ex Human Revolution - Director's Cut</td>\n",
       "      <td>FPS</td>\n",
       "    </tr>\n",
       "    <tr>\n",
       "      <th>36</th>\n",
       "      <td>DOOM Eternal</td>\n",
       "      <td>FPS</td>\n",
       "    </tr>\n",
       "    <tr>\n",
       "      <th>37</th>\n",
       "      <td>Killing Floor 2</td>\n",
       "      <td>FPS</td>\n",
       "    </tr>\n",
       "    <tr>\n",
       "      <th>38</th>\n",
       "      <td>Team Fortress 2</td>\n",
       "      <td>FPS</td>\n",
       "    </tr>\n",
       "    <tr>\n",
       "      <th>39</th>\n",
       "      <td>Tom Clancy's Rainbow Six Siege</td>\n",
       "      <td>FPS</td>\n",
       "    </tr>\n",
       "    <tr>\n",
       "      <th>40</th>\n",
       "      <td>MiniState</td>\n",
       "      <td>Multi</td>\n",
       "    </tr>\n",
       "    <tr>\n",
       "      <th>41</th>\n",
       "      <td>Ostrofa</td>\n",
       "      <td>Multi</td>\n",
       "    </tr>\n",
       "    <tr>\n",
       "      <th>42</th>\n",
       "      <td>Soviet Jump Game</td>\n",
       "      <td>Multi</td>\n",
       "    </tr>\n",
       "    <tr>\n",
       "      <th>43</th>\n",
       "      <td>Astellia</td>\n",
       "      <td>RPG</td>\n",
       "    </tr>\n",
       "    <tr>\n",
       "      <th>44</th>\n",
       "      <td>Borderlands 3</td>\n",
       "      <td>RPG</td>\n",
       "    </tr>\n",
       "    <tr>\n",
       "      <th>45</th>\n",
       "      <td>Divinity Original Sin 2 Definitive Edition</td>\n",
       "      <td>RPG</td>\n",
       "    </tr>\n",
       "    <tr>\n",
       "      <th>46</th>\n",
       "      <td>Gordian Quest</td>\n",
       "      <td>RPG</td>\n",
       "    </tr>\n",
       "    <tr>\n",
       "      <th>47</th>\n",
       "      <td>GreedFall</td>\n",
       "      <td>RPG</td>\n",
       "    </tr>\n",
       "    <tr>\n",
       "      <th>48</th>\n",
       "      <td>Gujian3</td>\n",
       "      <td>RPG</td>\n",
       "    </tr>\n",
       "    <tr>\n",
       "      <th>49</th>\n",
       "      <td>Mount Blade 2 Bannerlord</td>\n",
       "      <td>RPG</td>\n",
       "    </tr>\n",
       "    <tr>\n",
       "      <th>50</th>\n",
       "      <td>The Elder Scrolls 5 Skyrim Special Edition</td>\n",
       "      <td>RPG</td>\n",
       "    </tr>\n",
       "    <tr>\n",
       "      <th>51</th>\n",
       "      <td>Thronebreaker The Witcher Tales</td>\n",
       "      <td>RPG</td>\n",
       "    </tr>\n",
       "    <tr>\n",
       "      <th>52</th>\n",
       "      <td>Wolcen Lords of Mayhem</td>\n",
       "      <td>RPG</td>\n",
       "    </tr>\n",
       "    <tr>\n",
       "      <th>53</th>\n",
       "      <td>Brawlhalla</td>\n",
       "      <td>ACT</td>\n",
       "    </tr>\n",
       "    <tr>\n",
       "      <th>54</th>\n",
       "      <td>CODE VEIN</td>\n",
       "      <td>ACT</td>\n",
       "    </tr>\n",
       "    <tr>\n",
       "      <th>55</th>\n",
       "      <td>Dead by Daylight</td>\n",
       "      <td>ACT</td>\n",
       "    </tr>\n",
       "    <tr>\n",
       "      <th>56</th>\n",
       "      <td>ONE PIECE PIRATE WARRIORS 4</td>\n",
       "      <td>ACT</td>\n",
       "    </tr>\n",
       "    <tr>\n",
       "      <th>57</th>\n",
       "      <td>Pummel Party</td>\n",
       "      <td>ACT</td>\n",
       "    </tr>\n",
       "    <tr>\n",
       "      <th>58</th>\n",
       "      <td>RESIDENT EVIL 2  BIOHAZARD RE2</td>\n",
       "      <td>ACT</td>\n",
       "    </tr>\n",
       "    <tr>\n",
       "      <th>59</th>\n",
       "      <td>Risk of Rain 2</td>\n",
       "      <td>ACT</td>\n",
       "    </tr>\n",
       "    <tr>\n",
       "      <th>60</th>\n",
       "      <td>The Witcher 3 Wild Hunt</td>\n",
       "      <td>ACT</td>\n",
       "    </tr>\n",
       "    <tr>\n",
       "      <th>61</th>\n",
       "      <td>Total War WARHAMMER II</td>\n",
       "      <td>ACT</td>\n",
       "    </tr>\n",
       "    <tr>\n",
       "      <th>62</th>\n",
       "      <td>We Happy Few</td>\n",
       "      <td>ACT</td>\n",
       "    </tr>\n",
       "  </tbody>\n",
       "</table>\n",
       "<p>63 rows × 2 columns</p>\n",
       "</div>"
      ],
      "text/plain": [
       "                                     Game name Category\n",
       "0                               Stardew Valley   Casual\n",
       "1                              Cities Skylines   Casual\n",
       "2                              Human Fall Flat   Casual\n",
       "3                                          UNO   Casual\n",
       "4                                      Deiland   Casual\n",
       "5                                  Bloons TD 6   Casual\n",
       "6              Plants vs. Zombies GOTY Edition   Casual\n",
       "7                                   The Sims 3   Casual\n",
       "8                                   Planet Zoo   Casual\n",
       "9                               Planet Coaster   Casual\n",
       "10                            Assassin's Creed      RPG\n",
       "11                                 DARK SOULS3      RPG\n",
       "12                                   Grim Dawn      RPG\n",
       "13                               MonsterHunter      RPG\n",
       "14                                  MountBlade      RPG\n",
       "15                           My Time At Portia      RPG\n",
       "16                               NieR Automata      RPG\n",
       "17                           OCTOPATH TRAVELER      RPG\n",
       "18                              Slay the Spire      RPG\n",
       "19                                    WITCHER3      RPG\n",
       "20                               Albion Online    Multi\n",
       "21                           Bloons TD Battles    Multi\n",
       "22                        Realm of the Mad God    Multi\n",
       "23                           Shakes and Fidget    Multi\n",
       "24                    The Elder Scrolls Online    Multi\n",
       "25                The Lord of the Rings Online    Multi\n",
       "26                                Transformice    Multi\n",
       "27                                 War Thunder    Multi\n",
       "28                        World of Tanks Blitz    Multi\n",
       "29                           World of Warships    Multi\n",
       "..                                         ...      ...\n",
       "33             Counter-Strike Global Offensive      FPS\n",
       "34                          Deep Rock Galactic      FPS\n",
       "35   Deus Ex Human Revolution - Director's Cut      FPS\n",
       "36                                DOOM Eternal      FPS\n",
       "37                             Killing Floor 2      FPS\n",
       "38                             Team Fortress 2      FPS\n",
       "39              Tom Clancy's Rainbow Six Siege      FPS\n",
       "40                                   MiniState    Multi\n",
       "41                                     Ostrofa    Multi\n",
       "42                            Soviet Jump Game    Multi\n",
       "43                                    Astellia      RPG\n",
       "44                               Borderlands 3      RPG\n",
       "45  Divinity Original Sin 2 Definitive Edition      RPG\n",
       "46                               Gordian Quest      RPG\n",
       "47                                   GreedFall      RPG\n",
       "48                                     Gujian3      RPG\n",
       "49                    Mount Blade 2 Bannerlord      RPG\n",
       "50  The Elder Scrolls 5 Skyrim Special Edition      RPG\n",
       "51             Thronebreaker The Witcher Tales      RPG\n",
       "52                      Wolcen Lords of Mayhem      RPG\n",
       "53                                  Brawlhalla      ACT\n",
       "54                                   CODE VEIN      ACT\n",
       "55                            Dead by Daylight      ACT\n",
       "56                 ONE PIECE PIRATE WARRIORS 4      ACT\n",
       "57                                Pummel Party      ACT\n",
       "58              RESIDENT EVIL 2  BIOHAZARD RE2      ACT\n",
       "59                              Risk of Rain 2      ACT\n",
       "60                     The Witcher 3 Wild Hunt      ACT\n",
       "61                      Total War WARHAMMER II      ACT\n",
       "62                                We Happy Few      ACT\n",
       "\n",
       "[63 rows x 2 columns]"
      ]
     },
     "execution_count": 3,
     "metadata": {},
     "output_type": "execute_result"
    }
   ],
   "source": [
    "data1 = pd.read_csv(\"./Data/cate.csv\")\n",
    "data1"
   ]
  },
  {
   "cell_type": "code",
   "execution_count": 4,
   "metadata": {},
   "outputs": [
    {
     "data": {
      "text/plain": [
       "\"Stardew Valley is an open-ended country-life RPG! You've inherited your grandfather's old farm plot in Stardew Valley. Armed with hand-me-down tools and a few coins, you set out to begin your new life. Can you learn to live off the land and turn these overgrown fields into a thriving home? It won't be easy. Ever since Joja Corporation came to town, the old ways of life have all but disappeared. The community center, once the town's most vibrant hub of activity, now lies in shambles. But the valley seems full of opportunity. With a little dedication, you might just be the one to restore Stardew Valley to greatness!\""
      ]
     },
     "execution_count": 4,
     "metadata": {},
     "output_type": "execute_result"
    }
   ],
   "source": [
    "name1=data1['Game name']\n",
    "#example: read one game description\n",
    "fname=\"./Data/\"+name1[0]+\"/1.txt\"\n",
    "dd=open(fname,\"r\")\n",
    "s=dd.read()\n",
    "s"
   ]
  },
  {
   "cell_type": "code",
   "execution_count": 5,
   "metadata": {},
   "outputs": [],
   "source": [
    "from nltk.tokenize import word_tokenize\n",
    "from nltk.corpus import stopwords\n",
    "from nltk.stem import PorterStemmer\n",
    "from nltk.tokenize import RegexpTokenizer\n",
    "from string import digits\n",
    "ps = PorterStemmer()\n",
    "tn1 = RegexpTokenizer(r'\\w+')\n",
    "stop_words=stopwords.words(\"english\")"
   ]
  },
  {
   "cell_type": "code",
   "execution_count": 6,
   "metadata": {},
   "outputs": [],
   "source": [
    "#Use a for loop to get all game descriptions\n",
    "#For each game description, remove punctuations, remove stopwords, get the stem words\n",
    "#Put these in a new list, then combine this list with the table we got before to get the new data table\n",
    "#In this new table, it shows game names, the key words of each game and the categories\n",
    "newline=[]\n",
    "for i in name1:\n",
    "    filename1=\"./Data/\"+i+\"/1.txt\"\n",
    "    filedata=open(filename1,\"r\")\n",
    "    filedes=filedata.read()\n",
    "    filedes=filedes.lower()\n",
    "    fq=tn1.tokenize(filedes)\n",
    "    newfq=[]\n",
    "    for w in fq:\n",
    "        if w not in stop_words:\n",
    "            newfq.append(w)\n",
    "    \n",
    "    newnewfq=[]\n",
    "    for w in newfq:\n",
    "        newnewfq.append(ps.stem(w))\n",
    "    \n",
    "    l=list(filter(lambda x: not str(x).isdigit(), newnewfq))\n",
    "    newline.append(l)\n",
    "\n"
   ]
  },
  {
   "cell_type": "code",
   "execution_count": 8,
   "metadata": {},
   "outputs": [
    {
     "data": {
      "text/html": [
       "<div>\n",
       "<style scoped>\n",
       "    .dataframe tbody tr th:only-of-type {\n",
       "        vertical-align: middle;\n",
       "    }\n",
       "\n",
       "    .dataframe tbody tr th {\n",
       "        vertical-align: top;\n",
       "    }\n",
       "\n",
       "    .dataframe thead th {\n",
       "        text-align: right;\n",
       "    }\n",
       "</style>\n",
       "<table border=\"1\" class=\"dataframe\">\n",
       "  <thead>\n",
       "    <tr style=\"text-align: right;\">\n",
       "      <th></th>\n",
       "      <th>Game name</th>\n",
       "      <th>Description key words</th>\n",
       "      <th>Category</th>\n",
       "    </tr>\n",
       "  </thead>\n",
       "  <tbody>\n",
       "    <tr>\n",
       "      <th>0</th>\n",
       "      <td>Stardew Valley</td>\n",
       "      <td>[stardew, valley, open, end, countri, life, rp...</td>\n",
       "      <td>Casual</td>\n",
       "    </tr>\n",
       "    <tr>\n",
       "      <th>1</th>\n",
       "      <td>Cities Skylines</td>\n",
       "      <td>[citi, skylin, modern, take, classic, citi, si...</td>\n",
       "      <td>Casual</td>\n",
       "    </tr>\n",
       "    <tr>\n",
       "      <th>2</th>\n",
       "      <td>Human Fall Flat</td>\n",
       "      <td>[discov, funniest, cooper, physic, base, puzzl...</td>\n",
       "      <td>Casual</td>\n",
       "    </tr>\n",
       "    <tr>\n",
       "      <th>3</th>\n",
       "      <td>UNO</td>\n",
       "      <td>[one, icon, classic, game, grew, know, love, u...</td>\n",
       "      <td>Casual</td>\n",
       "    </tr>\n",
       "    <tr>\n",
       "      <th>4</th>\n",
       "      <td>Deiland</td>\n",
       "      <td>[deiland, singl, player, adventur, rpg, sever,...</td>\n",
       "      <td>Casual</td>\n",
       "    </tr>\n",
       "  </tbody>\n",
       "</table>\n",
       "</div>"
      ],
      "text/plain": [
       "         Game name                              Description key words Category\n",
       "0   Stardew Valley  [stardew, valley, open, end, countri, life, rp...   Casual\n",
       "1  Cities Skylines  [citi, skylin, modern, take, classic, citi, si...   Casual\n",
       "2  Human Fall Flat  [discov, funniest, cooper, physic, base, puzzl...   Casual\n",
       "3              UNO  [one, icon, classic, game, grew, know, love, u...   Casual\n",
       "4          Deiland  [deiland, singl, player, adventur, rpg, sever,...   Casual"
      ]
     },
     "execution_count": 8,
     "metadata": {},
     "output_type": "execute_result"
    }
   ],
   "source": [
    "newdf=pd.DataFrame({\"Game name\":data1['Game name'],\"Description key words\":newline,\"Category\":data1['Category']})\n",
    "newdf.head()"
   ]
  },
  {
   "cell_type": "code",
   "execution_count": 9,
   "metadata": {},
   "outputs": [
    {
     "data": {
      "text/html": [
       "<div>\n",
       "<style scoped>\n",
       "    .dataframe tbody tr th:only-of-type {\n",
       "        vertical-align: middle;\n",
       "    }\n",
       "\n",
       "    .dataframe tbody tr th {\n",
       "        vertical-align: top;\n",
       "    }\n",
       "\n",
       "    .dataframe thead th {\n",
       "        text-align: right;\n",
       "    }\n",
       "</style>\n",
       "<table border=\"1\" class=\"dataframe\">\n",
       "  <thead>\n",
       "    <tr style=\"text-align: right;\">\n",
       "      <th></th>\n",
       "      <th>Description key words</th>\n",
       "      <th>Category</th>\n",
       "    </tr>\n",
       "  </thead>\n",
       "  <tbody>\n",
       "    <tr>\n",
       "      <th>0</th>\n",
       "      <td>[stardew, valley, open, end, countri, life, rp...</td>\n",
       "      <td>Casual</td>\n",
       "    </tr>\n",
       "    <tr>\n",
       "      <th>1</th>\n",
       "      <td>[citi, skylin, modern, take, classic, citi, si...</td>\n",
       "      <td>Casual</td>\n",
       "    </tr>\n",
       "    <tr>\n",
       "      <th>2</th>\n",
       "      <td>[discov, funniest, cooper, physic, base, puzzl...</td>\n",
       "      <td>Casual</td>\n",
       "    </tr>\n",
       "    <tr>\n",
       "      <th>3</th>\n",
       "      <td>[one, icon, classic, game, grew, know, love, u...</td>\n",
       "      <td>Casual</td>\n",
       "    </tr>\n",
       "    <tr>\n",
       "      <th>4</th>\n",
       "      <td>[deiland, singl, player, adventur, rpg, sever,...</td>\n",
       "      <td>Casual</td>\n",
       "    </tr>\n",
       "  </tbody>\n",
       "</table>\n",
       "</div>"
      ],
      "text/plain": [
       "                               Description key words Category\n",
       "0  [stardew, valley, open, end, countri, life, rp...   Casual\n",
       "1  [citi, skylin, modern, take, classic, citi, si...   Casual\n",
       "2  [discov, funniest, cooper, physic, base, puzzl...   Casual\n",
       "3  [one, icon, classic, game, grew, know, love, u...   Casual\n",
       "4  [deiland, singl, player, adventur, rpg, sever,...   Casual"
      ]
     },
     "execution_count": 9,
     "metadata": {},
     "output_type": "execute_result"
    }
   ],
   "source": [
    "#We will use two lines('Description key words' and 'Category') to build a classification model\n",
    "#We will seperate our data to training data and testing data\n",
    "classdf=pd.DataFrame({\"Description key words\":newdf['Description key words'],\"Category\":data1['Category']})\n",
    "classdf.head()"
   ]
  },
  {
   "cell_type": "code",
   "execution_count": 10,
   "metadata": {},
   "outputs": [],
   "source": [
    "#split the data into train part and test part\n",
    "\n",
    "X_train, X_test, y_train, y_test = train_test_split(classdf['Description key words'], classdf['Category'], test_size=0.3)"
   ]
  },
  {
   "cell_type": "code",
   "execution_count": 11,
   "metadata": {},
   "outputs": [
    {
     "data": {
      "text/plain": [
       "44"
      ]
     },
     "execution_count": 11,
     "metadata": {},
     "output_type": "execute_result"
    }
   ],
   "source": [
    "#Use Word Embeddings method to transfer the sentence to a vector\n",
    "tokenizer = Tokenizer(num_words=5000)\n",
    "tokenizer.fit_on_texts(classdf['Description key words'])\n",
    "X_train1 = tokenizer.texts_to_sequences(X_train)\n",
    "X_test1 = tokenizer.texts_to_sequences(X_test)\n",
    "vocab_size= len(tokenizer.word_index) + 1 #add 1 because the number should start from 1\n",
    "len(X_train1)"
   ]
  },
  {
   "cell_type": "code",
   "execution_count": 12,
   "metadata": {},
   "outputs": [
    {
     "name": "stdout",
     "output_type": "stream",
     "text": [
      "252\n"
     ]
    }
   ],
   "source": [
    "#get the max length for X, and change all elements in X_train and X_test to be the same length\n",
    "maxlen=0\n",
    "for i in classdf['Description key words'] :\n",
    "    if len(i)>=maxlen:\n",
    "        maxlen=len(i)\n",
    "\n",
    "print(maxlen)"
   ]
  },
  {
   "cell_type": "code",
   "execution_count": 13,
   "metadata": {},
   "outputs": [],
   "source": [
    "#Use pad_sequences to do this\n",
    "from keras.preprocessing.sequence import pad_sequences\n",
    "\n",
    "X_train1 = pad_sequences(X_train1, padding='post', maxlen=maxlen)\n",
    "X_test1 = pad_sequences(X_test1, padding='post', maxlen=maxlen)\n",
    "\n",
    "#This is useful and neccessary for next steps"
   ]
  },
  {
   "cell_type": "code",
   "execution_count": 14,
   "metadata": {},
   "outputs": [],
   "source": [
    "#transfer y to numbers\n",
    "tokenizer1 = Tokenizer(num_words=10)\n",
    "tokenizer1.fit_on_texts(classdf['Category'])\n",
    "y_train1 = tokenizer1.texts_to_sequences(y_train)\n",
    "y_test1 = tokenizer1.texts_to_sequences(y_test)\n",
    "vocab_size1 = len(tokenizer1.word_index) + 1\n",
    "\n",
    "newy_train=[]\n",
    "newy_test=[]\n",
    "for i in y_train1:\n",
    "    newy_train.append(i[0])\n",
    "\n",
    "for j in y_test1:\n",
    "    newy_test.append(j[0])"
   ]
  },
  {
   "cell_type": "code",
   "execution_count": 15,
   "metadata": {},
   "outputs": [
    {
     "name": "stdout",
     "output_type": "stream",
     "text": [
      "[2, 5, 1, 5, 1, 3, 1, 1, 1, 4, 1, 4, 2, 5, 4, 2, 1, 2, 5, 3, 3, 1, 3, 2, 2, 4, 1, 2, 2, 1, 2, 3, 4, 1, 1, 2, 3, 1, 4, 5, 2, 2, 3, 3]\n"
     ]
    }
   ],
   "source": [
    "print(newy_train)"
   ]
  },
  {
   "cell_type": "code",
   "execution_count": 16,
   "metadata": {},
   "outputs": [
    {
     "name": "stdout",
     "output_type": "stream",
     "text": [
      "WARNING:tensorflow:From /Users/itachi/anaconda3/lib/python3.7/site-packages/tensorflow/python/framework/op_def_library.py:263: colocate_with (from tensorflow.python.framework.ops) is deprecated and will be removed in a future version.\n",
      "Instructions for updating:\n",
      "Colocations handled automatically by placer.\n",
      "_________________________________________________________________\n",
      "Layer (type)                 Output Shape              Param #   \n",
      "=================================================================\n",
      "embedding_1 (Embedding)      (None, 252, 50)           79950     \n",
      "_________________________________________________________________\n",
      "global_max_pooling1d_1 (Glob (None, 50)                0         \n",
      "_________________________________________________________________\n",
      "dense_1 (Dense)              (None, 252)               12852     \n",
      "_________________________________________________________________\n",
      "dense_2 (Dense)              (None, 100)               25300     \n",
      "_________________________________________________________________\n",
      "dense_3 (Dense)              (None, 50)                5050      \n",
      "_________________________________________________________________\n",
      "dense_4 (Dense)              (None, 25)                1275      \n",
      "_________________________________________________________________\n",
      "dense_5 (Dense)              (None, 1)                 26        \n",
      "=================================================================\n",
      "Total params: 124,453\n",
      "Trainable params: 124,453\n",
      "Non-trainable params: 0\n",
      "_________________________________________________________________\n"
     ]
    }
   ],
   "source": [
    "#Use Neural Networks to do the classification\n",
    "#Use Keras\n",
    "#Build model\n",
    "from keras.models import Sequential\n",
    "from keras import layers\n",
    "\n",
    "em_dim = 50\n",
    "classmodel = Sequential()\n",
    "classmodel.add(layers.Embedding(input_dim=vocab_size,output_dim=em_dim,input_length=maxlen))\n",
    "#classmodel.add(layers.Conv1D(128, 5, activation='relu'))#\n",
    "classmodel.add(layers.GlobalMaxPooling1D())#\n",
    "#classmodel.add(layers.Flatten())\n",
    "classmodel.add(layers.Dense(maxlen, activation='relu'))\n",
    "classmodel.add(layers.Dense(100, activation='relu'))\n",
    "classmodel.add(layers.Dense(50, activation='relu'))\n",
    "classmodel.add(layers.Dense(25, activation='sigmoid'))\n",
    "classmodel.add(layers.Dense(1, activation='sigmoid'))\n",
    "classmodel.compile(optimizer='adam',loss='binary_crossentropy',metrics=['accuracy'])\n",
    "classmodel.summary()"
   ]
  },
  {
   "cell_type": "code",
   "execution_count": 17,
   "metadata": {},
   "outputs": [],
   "source": [
    "#Define a function that show the fit result\n",
    "plt.style.use('ggplot')\n",
    "\n",
    "def plot_fit(result):\n",
    "    acc = result.history['acc']\n",
    "    val_acc = result.history['val_acc']\n",
    "    loss = result.history['loss']\n",
    "    val_loss = result.history['val_loss']\n",
    "    x = range(1, len(acc) + 1)\n",
    "    plt.figure(figsize=(12, 5))\n",
    "    plt.subplot(1, 2, 1)\n",
    "    plt.plot(x, acc, 'b', label='Training accuracy')\n",
    "    plt.plot(x, val_acc, 'r', label='Validation accuracy')\n",
    "    plt.title('Training and validation accuracy')\n",
    "    plt.legend()\n",
    "    plt.subplot(1, 2, 2)\n",
    "    plt.plot(x, loss, 'b', label='Training loss')\n",
    "    plt.plot(x, val_loss, 'r', label='Validation loss')\n",
    "    plt.title('Training and validation loss')\n",
    "    plt.legend()"
   ]
  },
  {
   "cell_type": "code",
   "execution_count": 18,
   "metadata": {},
   "outputs": [
    {
     "name": "stdout",
     "output_type": "stream",
     "text": [
      "WARNING:tensorflow:From /Users/itachi/anaconda3/lib/python3.7/site-packages/tensorflow/python/ops/math_ops.py:3066: to_int32 (from tensorflow.python.ops.math_ops) is deprecated and will be removed in a future version.\n",
      "Instructions for updating:\n",
      "Use tf.cast instead.\n",
      "WARNING:tensorflow:From /Users/itachi/anaconda3/lib/python3.7/site-packages/tensorflow/python/ops/math_grad.py:102: div (from tensorflow.python.ops.math_ops) is deprecated and will be removed in a future version.\n",
      "Instructions for updating:\n",
      "Deprecated in favor of operator or tf.math.divide.\n"
     ]
    },
    {
     "data": {
      "image/png": "[encoded data removed]",
      "text/plain": [
       "<Figure size 864x360 with 2 Axes>"
      ]
     },
     "metadata": {},
     "output_type": "display_data"
    }
   ],
   "source": [
    "#Fit the data\n",
    "fit1 = classmodel.fit(X_train1, newy_train, epochs=20,verbose=False,validation_data=(X_test1, newy_test),batch_size=10)\n",
    "plot_fit(fit1)"
   ]
  },
  {
   "cell_type": "code",
   "execution_count": 19,
   "metadata": {},
   "outputs": [
    {
     "name": "stdout",
     "output_type": "stream",
     "text": [
      "Test Accuracy: 0.3684\n",
      "Test Loss: -11.0326\n"
     ]
    }
   ],
   "source": [
    "#We can see the test accuracy and loss\n",
    "loss1, accuracy1 = classmodel.evaluate(X_test1, newy_test, verbose=False)\n",
    "print(\"Test Accuracy: {:.4f}\".format(accuracy1))\n",
    "print(\"Test Loss: {:.4f}\".format(loss1))"
   ]
  },
  {
   "cell_type": "code",
   "execution_count": 20,
   "metadata": {},
   "outputs": [
    {
     "name": "stdout",
     "output_type": "stream",
     "text": [
      "Train Accuracy: 0.2955\n",
      "Train Loss: -8.5000\n"
     ]
    }
   ],
   "source": [
    "#We can also see the train accuracy and loss\n",
    "loss2, accuracy2 = classmodel.evaluate(X_train1, newy_train, verbose=False)\n",
    "print(\"Train Accuracy: {:.4f}\".format(accuracy2))\n",
    "print(\"Train Loss: {:.4f}\".format(loss2))"
   ]
  },
  {
   "cell_type": "markdown",
   "metadata": {},
   "source": [
    "We can see that this result is not not good.\n",
    "Reasons: \n",
    "1. the datasets is not big enough. We need more data.\n",
    "2. there should be more nodes in the hidden layers."
   ]
  },
  {
   "cell_type": "markdown",
   "metadata": {},
   "source": [
    "Try to use another classification module"
   ]
  },
  {
   "cell_type": "code",
   "execution_count": 24,
   "metadata": {},
   "outputs": [
    {
     "data": {
      "text/html": [
       "<div>\n",
       "<style scoped>\n",
       "    .dataframe tbody tr th:only-of-type {\n",
       "        vertical-align: middle;\n",
       "    }\n",
       "\n",
       "    .dataframe tbody tr th {\n",
       "        vertical-align: top;\n",
       "    }\n",
       "\n",
       "    .dataframe thead th {\n",
       "        text-align: right;\n",
       "    }\n",
       "</style>\n",
       "<table border=\"1\" class=\"dataframe\">\n",
       "  <thead>\n",
       "    <tr style=\"text-align: right;\">\n",
       "      <th></th>\n",
       "      <th>Game name</th>\n",
       "      <th>Description key words</th>\n",
       "      <th>Category</th>\n",
       "    </tr>\n",
       "  </thead>\n",
       "  <tbody>\n",
       "    <tr>\n",
       "      <th>0</th>\n",
       "      <td>Stardew Valley</td>\n",
       "      <td>[stardew, valley, open, end, countri, life, rp...</td>\n",
       "      <td>Casual</td>\n",
       "    </tr>\n",
       "    <tr>\n",
       "      <th>1</th>\n",
       "      <td>Cities Skylines</td>\n",
       "      <td>[citi, skylin, modern, take, classic, citi, si...</td>\n",
       "      <td>Casual</td>\n",
       "    </tr>\n",
       "    <tr>\n",
       "      <th>2</th>\n",
       "      <td>Human Fall Flat</td>\n",
       "      <td>[discov, funniest, cooper, physic, base, puzzl...</td>\n",
       "      <td>Casual</td>\n",
       "    </tr>\n",
       "    <tr>\n",
       "      <th>3</th>\n",
       "      <td>UNO</td>\n",
       "      <td>[one, icon, classic, game, grew, know, love, u...</td>\n",
       "      <td>Casual</td>\n",
       "    </tr>\n",
       "    <tr>\n",
       "      <th>4</th>\n",
       "      <td>Deiland</td>\n",
       "      <td>[deiland, singl, player, adventur, rpg, sever,...</td>\n",
       "      <td>Casual</td>\n",
       "    </tr>\n",
       "  </tbody>\n",
       "</table>\n",
       "</div>"
      ],
      "text/plain": [
       "         Game name                              Description key words Category\n",
       "0   Stardew Valley  [stardew, valley, open, end, countri, life, rp...   Casual\n",
       "1  Cities Skylines  [citi, skylin, modern, take, classic, citi, si...   Casual\n",
       "2  Human Fall Flat  [discov, funniest, cooper, physic, base, puzzl...   Casual\n",
       "3              UNO  [one, icon, classic, game, grew, know, love, u...   Casual\n",
       "4          Deiland  [deiland, singl, player, adventur, rpg, sever,...   Casual"
      ]
     },
     "execution_count": 24,
     "metadata": {},
     "output_type": "execute_result"
    }
   ],
   "source": [
    "#Use naivebayes classifier to do the classification\n",
    "newdf.head()"
   ]
  },
  {
   "cell_type": "code",
   "execution_count": 38,
   "metadata": {},
   "outputs": [],
   "source": [
    "#Try to use SklearnClassifier to build model\n",
    "from nltk.classify.scikitlearn import SklearnClassifier\n",
    "from sklearn.naive_bayes import MultinomialNB\n",
    "from sklearn.pipeline import Pipeline\n",
    "from sklearn.feature_extraction.text import TfidfVectorizer\n",
    "from sklearn.feature_extraction.text import CountVectorizer\n",
    "from sklearn.metrics import accuracy_score\n",
    "from sklearn.feature_extraction.text import TfidfTransformer\n"
   ]
  },
  {
   "cell_type": "code",
   "execution_count": 39,
   "metadata": {},
   "outputs": [
    {
     "data": {
      "text/html": [
       "<div>\n",
       "<style scoped>\n",
       "    .dataframe tbody tr th:only-of-type {\n",
       "        vertical-align: middle;\n",
       "    }\n",
       "\n",
       "    .dataframe tbody tr th {\n",
       "        vertical-align: top;\n",
       "    }\n",
       "\n",
       "    .dataframe thead th {\n",
       "        text-align: right;\n",
       "    }\n",
       "</style>\n",
       "<table border=\"1\" class=\"dataframe\">\n",
       "  <thead>\n",
       "    <tr style=\"text-align: right;\">\n",
       "      <th></th>\n",
       "      <th>Game name</th>\n",
       "      <th>Description key words</th>\n",
       "      <th>Category</th>\n",
       "    </tr>\n",
       "  </thead>\n",
       "  <tbody>\n",
       "    <tr>\n",
       "      <th>0</th>\n",
       "      <td>Stardew Valley</td>\n",
       "      <td>stardew valley open end countri life rpg inher...</td>\n",
       "      <td>Casual</td>\n",
       "    </tr>\n",
       "    <tr>\n",
       "      <th>1</th>\n",
       "      <td>Cities Skylines</td>\n",
       "      <td>citi skylin modern take classic citi simul gam...</td>\n",
       "      <td>Casual</td>\n",
       "    </tr>\n",
       "    <tr>\n",
       "      <th>2</th>\n",
       "      <td>Human Fall Flat</td>\n",
       "      <td>discov funniest cooper physic base puzzl platf...</td>\n",
       "      <td>Casual</td>\n",
       "    </tr>\n",
       "    <tr>\n",
       "      <th>3</th>\n",
       "      <td>UNO</td>\n",
       "      <td>one icon classic game grew know love uno make ...</td>\n",
       "      <td>Casual</td>\n",
       "    </tr>\n",
       "    <tr>\n",
       "      <th>4</th>\n",
       "      <td>Deiland</td>\n",
       "      <td>deiland singl player adventur rpg sever sandbo...</td>\n",
       "      <td>Casual</td>\n",
       "    </tr>\n",
       "  </tbody>\n",
       "</table>\n",
       "</div>"
      ],
      "text/plain": [
       "         Game name                              Description key words Category\n",
       "0   Stardew Valley  stardew valley open end countri life rpg inher...   Casual\n",
       "1  Cities Skylines  citi skylin modern take classic citi simul gam...   Casual\n",
       "2  Human Fall Flat  discov funniest cooper physic base puzzl platf...   Casual\n",
       "3              UNO  one icon classic game grew know love uno make ...   Casual\n",
       "4          Deiland  deiland singl player adventur rpg sever sandbo...   Casual"
      ]
     },
     "execution_count": 39,
     "metadata": {},
     "output_type": "execute_result"
    }
   ],
   "source": [
    "newdf1lines=[]\n",
    "for i in newdf['Description key words']:\n",
    "    st=\"\"\n",
    "    for j in i:\n",
    "        st=st+j+\" \"\n",
    "    newdf1lines.append(st)\n",
    "\n",
    "newdf1=pd.DataFrame({\"Game name\":newdf['Game name'],\"Description key words\":newdf1lines,\"Category\":newdf['Category']})\n",
    "newdf1.head()"
   ]
  },
  {
   "cell_type": "code",
   "execution_count": 40,
   "metadata": {},
   "outputs": [],
   "source": [
    "X_train1, X_test1, y_train1, y_test1 = train_test_split(newdf1['Description key words'], newdf1['Category'], test_size=0.3)"
   ]
  },
  {
   "cell_type": "code",
   "execution_count": 41,
   "metadata": {},
   "outputs": [
    {
     "data": {
      "text/plain": [
       "(44, 1241)"
      ]
     },
     "execution_count": 41,
     "metadata": {},
     "output_type": "execute_result"
    }
   ],
   "source": [
    "count_vect=CountVectorizer()\n",
    "X_train1_counts=count_vect.fit_transform(X_train1)\n",
    "X_train1_counts.shape"
   ]
  },
  {
   "cell_type": "code",
   "execution_count": 42,
   "metadata": {},
   "outputs": [
    {
     "data": {
      "text/plain": [
       "(44, 1241)"
      ]
     },
     "execution_count": 42,
     "metadata": {},
     "output_type": "execute_result"
    }
   ],
   "source": [
    "tfidf_transformer=TfidfTransformer()\n",
    "X_train1_tfidf=tfidf_transformer.fit_transform(X_train1_counts)\n",
    "X_train1_tfidf.shape"
   ]
  },
  {
   "cell_type": "code",
   "execution_count": 45,
   "metadata": {},
   "outputs": [],
   "source": [
    "#build a MultinomialNB model\n",
    "clfmodel=MultinomialNB().fit(X_train1_tfidf, y_train1)"
   ]
  },
  {
   "cell_type": "code",
   "execution_count": 47,
   "metadata": {},
   "outputs": [
    {
     "data": {
      "text/plain": [
       "0.3684210526315789"
      ]
     },
     "execution_count": 47,
     "metadata": {},
     "output_type": "execute_result"
    }
   ],
   "source": [
    "nb=Pipeline([('vect', CountVectorizer()),('tfidf', TfidfTransformer()),('clf', MultinomialNB()),])\n",
    "nb=nb.fit(X_train1, y_train1)\n",
    "\n",
    "pre1=nb.predict(X_test1)\n",
    "accuracy_score(y_test1, pre1)"
   ]
  },
  {
   "cell_type": "code",
   "execution_count": 64,
   "metadata": {},
   "outputs": [
    {
     "data": {
      "text/plain": [
       "0.3157894736842105"
      ]
     },
     "execution_count": 64,
     "metadata": {},
     "output_type": "execute_result"
    }
   ],
   "source": [
    "#Try use SVM model\n",
    "from sklearn.linear_model import SGDClassifier\n",
    "\n",
    "svm=Pipeline([('vect', CountVectorizer()),('tfidf', TfidfTransformer()),('clf-svm', SGDClassifier(loss='hinge', penalty='l2', alpha=1e-3,  random_state=100)),])\n",
    "svm=svm.fit(X_train1, y_train1)\n",
    "\n",
    "pre2=svm.predict(X_test1)\n",
    "accuracy_score(y_test1, pre2)"
   ]
  },
  {
   "cell_type": "markdown",
   "metadata": {},
   "source": [
    "We can see that these two results are not good enough.\n",
    "Reasons:\n",
    "The dataset is not big enough"
   ]
  },
  {
   "cell_type": "markdown",
   "metadata": {},
   "source": [
    "We try to build another model by using wordnet to compare the similiarity in order to get the most similiar one."
   ]
  },
  {
   "cell_type": "code",
   "execution_count": 65,
   "metadata": {},
   "outputs": [],
   "source": [
    "from nltk.corpus import wordnet"
   ]
  },
  {
   "cell_type": "code",
   "execution_count": 82,
   "metadata": {},
   "outputs": [
    {
     "data": {
      "text/html": [
       "<div>\n",
       "<style scoped>\n",
       "    .dataframe tbody tr th:only-of-type {\n",
       "        vertical-align: middle;\n",
       "    }\n",
       "\n",
       "    .dataframe tbody tr th {\n",
       "        vertical-align: top;\n",
       "    }\n",
       "\n",
       "    .dataframe thead th {\n",
       "        text-align: right;\n",
       "    }\n",
       "</style>\n",
       "<table border=\"1\" class=\"dataframe\">\n",
       "  <thead>\n",
       "    <tr style=\"text-align: right;\">\n",
       "      <th></th>\n",
       "      <th>Game name</th>\n",
       "      <th>Description key words</th>\n",
       "      <th>Category</th>\n",
       "    </tr>\n",
       "  </thead>\n",
       "  <tbody>\n",
       "    <tr>\n",
       "      <th>0</th>\n",
       "      <td>Stardew Valley</td>\n",
       "      <td>[stardew, valley, open, end, countri, life, rp...</td>\n",
       "      <td>Casual</td>\n",
       "    </tr>\n",
       "    <tr>\n",
       "      <th>1</th>\n",
       "      <td>Cities Skylines</td>\n",
       "      <td>[citi, skylin, modern, take, classic, citi, si...</td>\n",
       "      <td>Casual</td>\n",
       "    </tr>\n",
       "    <tr>\n",
       "      <th>2</th>\n",
       "      <td>Human Fall Flat</td>\n",
       "      <td>[discov, funniest, cooper, physic, base, puzzl...</td>\n",
       "      <td>Casual</td>\n",
       "    </tr>\n",
       "    <tr>\n",
       "      <th>3</th>\n",
       "      <td>UNO</td>\n",
       "      <td>[one, icon, classic, game, grew, know, love, u...</td>\n",
       "      <td>Casual</td>\n",
       "    </tr>\n",
       "    <tr>\n",
       "      <th>4</th>\n",
       "      <td>Deiland</td>\n",
       "      <td>[deiland, singl, player, adventur, rpg, sever,...</td>\n",
       "      <td>Casual</td>\n",
       "    </tr>\n",
       "  </tbody>\n",
       "</table>\n",
       "</div>"
      ],
      "text/plain": [
       "         Game name                              Description key words Category\n",
       "0   Stardew Valley  [stardew, valley, open, end, countri, life, rp...   Casual\n",
       "1  Cities Skylines  [citi, skylin, modern, take, classic, citi, si...   Casual\n",
       "2  Human Fall Flat  [discov, funniest, cooper, physic, base, puzzl...   Casual\n",
       "3              UNO  [one, icon, classic, game, grew, know, love, u...   Casual\n",
       "4          Deiland  [deiland, singl, player, adventur, rpg, sever,...   Casual"
      ]
     },
     "execution_count": 82,
     "metadata": {},
     "output_type": "execute_result"
    }
   ],
   "source": [
    "#This time, we will use the classdf dataframe we created before\n",
    "newdf.head()"
   ]
  },
  {
   "cell_type": "code",
   "execution_count": 119,
   "metadata": {},
   "outputs": [],
   "source": [
    "#build a function to compare the similarity between input game description and the descriptions in the dataset.\n",
    "#Get the list of similarity. By finding the index of the largest one, get the category. Also get at most 3 most similar game names\n",
    "#return that category and the similarity score list\n",
    "def get_cate(wordslist,data):\n",
    "    datalen=len(data)\n",
    "    scorelist=[]\n",
    "    for i in range(len(data)):\n",
    "        a=data['Description key words']\n",
    "        list1=a[i]\n",
    "        linescore=0\n",
    "        for word1 in wordslist:\n",
    "            synsets1=wordnet.synsets(word1)\n",
    "            wordscore=0\n",
    "            for word2 in list1:\n",
    "                synsets2=wordnet.synsets(word2)\n",
    "                prescore=0\n",
    "                count=0\n",
    "                for synset1 in synsets1:\n",
    "                    for synset2 in synsets2:\n",
    "                        s=synset1.path_similarity(synset2)\n",
    "                        if s is not None:\n",
    "                            prescore+=s\n",
    "                            count+=1\n",
    "                if count>0:\n",
    "                    wordscore=wordscore+prescore/count\n",
    "            linescore+=wordscore\n",
    "        scorelist.append(linescore)\n",
    "    \n",
    "    maxnum=0\n",
    "    index=0\n",
    "    lineplace=0\n",
    "    for k in scorelist:\n",
    "        if k>maxnum:\n",
    "            maxnum=k\n",
    "            lineplace=index\n",
    "        index+=1\n",
    "    \n",
    "    b=data['Category']\n",
    "    cate=b[lineplace]\n",
    "    return cate,scorelist"
   ]
  },
  {
   "cell_type": "code",
   "execution_count": 121,
   "metadata": {},
   "outputs": [
    {
     "name": "stdout",
     "output_type": "stream",
     "text": [
      "Multi\n"
     ]
    }
   ],
   "source": [
    "c=newdf['Description key words']\n",
    "cc=c[3]\n",
    "ccc1,sss=get_cate(cc,newdf)\n",
    "print(ccc1)"
   ]
  },
  {
   "cell_type": "code",
   "execution_count": 123,
   "metadata": {},
   "outputs": [
    {
     "name": "stdout",
     "output_type": "stream",
     "text": [
      "[246.26724102866788, 335.2396063674708, 264.56524551557993, 365.6678564067499, 319.4839395837776, 752.4066481892335, 493.21598477458514, 584.2305998584382, 599.0616872813623, 884.0963615302112, 73.48188135150696, 133.76311623188639, 79.01578040294885, 171.1187160581426, 74.39072507066118, 90.91373867669303, 42.850627182012325, 341.80117953382313, 62.65504288557187, 86.63409985298449, 158.08116002436572, 538.5509265812088, 183.09906162684482, 247.51103197007436, 137.7430070182234, 437.3405158767378, 981.905076148006, 326.38521410209154, 235.601010051123, 568.6773947681162, 83.43055170470745, 103.5677536696499, 199.81296543952308, 328.2045434559279, 58.87984078702571, 133.53312486559685, 68.04969322786128, 284.40640185632793, 459.39796789253984, 159.4193192029946, 335.4263507735417, 200.37488717759067, 365.27303171391316, 40.58144112790069, 83.16819773288996, 71.34969045937962, 107.96661940106593, 88.89279891262116, 265.1857654359992, 147.36826697552706, 238.78836662587852, 82.99985686225114, 88.92755950488619, 176.8014263207687, 71.96461526055512, 220.59177352362016, 276.57624073194535, 94.4552728620037, 161.71059404234677, 141.935655656129, 161.97475072976167, 259.5522063557277, 147.3723226181092]\n"
     ]
    }
   ],
   "source": [
    "print(sss)"
   ]
  },
  {
   "cell_type": "markdown",
   "metadata": {},
   "source": [
    "The result is good. But the speed is too slow. Because there are too many words to compare in the synsets"
   ]
  },
  {
   "cell_type": "markdown",
   "metadata": {},
   "source": [
    "The next part is to use game reviews to set marks for each game"
   ]
  },
  {
   "cell_type": "code",
   "execution_count": 125,
   "metadata": {},
   "outputs": [
    {
     "name": "stderr",
     "output_type": "stream",
     "text": [
      "[nltk_data] Downloading package vader_lexicon to\n",
      "[nltk_data]     /Users/itachi/nltk_data...\n"
     ]
    },
    {
     "data": {
      "text/plain": [
       "True"
      ]
     },
     "execution_count": 125,
     "metadata": {},
     "output_type": "execute_result"
    }
   ],
   "source": [
    "nltk.download('vader_lexicon')"
   ]
  },
  {
   "cell_type": "code",
   "execution_count": 196,
   "metadata": {},
   "outputs": [],
   "source": [
    "#Use the game reviews to mark games\n",
    "#We will use SentimentIntensityAnalyzer\n",
    "from nltk.sentiment.vader import SentimentIntensityAnalyzer as SIA\n",
    "\n",
    "tn2=RegexpTokenizer(r'\\w+')\n",
    "sia=SIA()\n"
   ]
  },
  {
   "cell_type": "code",
   "execution_count": 197,
   "metadata": {},
   "outputs": [
    {
     "name": "stdout",
     "output_type": "stream",
     "text": [
      "[0.9999, 0.9999, 0.9999, 0.9997, 0.9999, 0.9954, 0.9994, 0.9999, 0.9999, 1.0, 0.9882, 0.9919, 0.9976, 0.9947, 0.9964, 0.9974, 0.992, 0.9986, 0.9979, 0.9919, 0.9999, 0.9988, 0.9997, 0.9999, 0.9998, 0.9998, 0.9944, 0.9995, 0.9998, 0.9999, 0.9999, 0.9999, 0.9987, 0.9993, 0.9998, 0.9998, -0.9771, 0.9998, 0.9998, 0.9996, 0.9998, 0.9995, 0.9998, 0.9977, 0.9666, 0.9814, 0.9932, 0.9679, 0.995, 0.8702, 0.9984, 0.9981, 0.9022, 0.9996, 0.9975, 0.9995, 0.9997, 0.9994, 0.9957, 0.952, 0.9984, 0.7695, 0.9966]\n"
     ]
    }
   ],
   "source": [
    "reviewscore=[]\n",
    "for i in name1:\n",
    "    filename2=\"./Data/\"+i+\"/2.txt\"\n",
    "    filedata2=open(filename2,\"r\")\n",
    "    file2=filedata2.read()\n",
    "    \n",
    "    reviewline=file2.lower()\n",
    "    po_score=sia.polarity_scores(reviewline)\n",
    "    linescore=po_score['compound']\n",
    "    reviewscore.append(linescore)\n",
    "    \n",
    "print(reviewscore)"
   ]
  },
  {
   "cell_type": "code",
   "execution_count": 210,
   "metadata": {},
   "outputs": [],
   "source": [
    "#build a function\n",
    "#find 3 largest ones, then find these games. These are recommanded games\n",
    "def recom_games(list1,list2,data):\n",
    "    finalscore=[]\n",
    "    for i in range(len(list1)):\n",
    "        a=list1[i-1]*list2[i-1]\n",
    "        finalscore.append(a)\n",
    "    \n",
    "    largelist=[0,0,0]\n",
    "    indexlist=[-1,-1,-1]\n",
    "    for j in range(len(finalscore)):\n",
    "        if finalscore[j-1]>largelist[0]:\n",
    "            largelist[0]=finalscore[j-1]\n",
    "            indexlist[0]=j-1\n",
    "        else:\n",
    "            if finalscore[j-1]>largelist[1]:\n",
    "                largelist[1]=finalscore[j-1]\n",
    "                indexlist[1]=j-1\n",
    "            else:\n",
    "                if finalscore[j-1]>largelist[2]:\n",
    "                    largelist[2]=finalscore[j-1]\n",
    "                    indexlist[2]=j-1\n",
    "    \n",
    "    gamelist=[]\n",
    "    for k in indexlist:\n",
    "        b=data['Game name']\n",
    "        name=b[k]\n",
    "        gamelist.append(name)\n",
    "    return gamelist"
   ]
  },
  {
   "cell_type": "code",
   "execution_count": 211,
   "metadata": {},
   "outputs": [
    {
     "name": "stdout",
     "output_type": "stream",
     "text": [
      "['War Thunder', 'Planet Coaster', 'Black Mesa']\n"
     ]
    }
   ],
   "source": [
    "#try an example\n",
    "\n",
    "try1=recom_games(sss,reviewscore,newdf)\n",
    "print(try1)"
   ]
  },
  {
   "cell_type": "markdown",
   "metadata": {},
   "source": [
    "This is the result. Looks good!"
   ]
  }
 ],
 "metadata": {
  "kernelspec": {
   "display_name": "Python 3",
   "language": "python",
   "name": "python3"
  },
  "language_info": {
   "codemirror_mode": {
    "name": "ipython",
    "version": 3
   },
   "file_extension": ".py",
   "mimetype": "text/x-python",
   "name": "python",
   "nbconvert_exporter": "python",
   "pygments_lexer": "ipython3",
   "version": "3.7.1"
  }
 },
 "nbformat": 4,
 "nbformat_minor": 2
}
